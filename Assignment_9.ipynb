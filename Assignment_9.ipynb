{
  "nbformat": 4,
  "nbformat_minor": 0,
  "metadata": {
    "colab": {
      "provenance": []
    },
    "kernelspec": {
      "name": "python3",
      "display_name": "Python 3"
    },
    "language_info": {
      "name": "python"
    }
  },
  "cells": [
    {
      "cell_type": "markdown",
      "source": [
        "**Question 1:** To what does a relative path refer?\n",
        "\n",
        "**Ans:** A relative path refers to a location that is relative to a current directory. Relative paths make use of two special symbols, a dot (.) and a double-dot (..), which translate into the current directory and the parent directory. Double dots are used for moving up in the hierarchy. "
      ],
      "metadata": {
        "id": "s_rgaFdK9t7X"
      }
    },
    {
      "cell_type": "markdown",
      "source": [
        "**Question 2:** What does an absolute path start with your operating system?\n",
        "\n",
        "Ans:  An absolute path is defined as the specifying the location of a file or directory from the root directory(/). In other words we can say absolute path is a complete path from start of actual filesystem from / directory."
      ],
      "metadata": {
        "id": "xAOVXkad96ZV"
      }
    },
    {
      "cell_type": "markdown",
      "source": [
        "**Question 3:** What do the functions os.getcwd() and os.chdir() do?\n",
        "\n",
        "**Ans:**  os.getcwd()--> To know the current working directory of the file, getcwd() method can be used. After changing the path, one can verify the path of current working directory using this method.\n",
        "\n",
        "os.chdir()--> method in Python used to change the current working directory to specified path. It takes only a single argument as new directory path.\n",
        " \n",
        "Syntax: os.chdir(path)\n",
        "\n",
        "Parameters:\n",
        "\n",
        "path: A complete path of directory to be changed to new directory \n",
        "\n",
        "path.\n",
        "Returns: Doesn’t return any value"
      ],
      "metadata": {
        "id": "08V_G8Uq-Yu3"
      }
    },
    {
      "cell_type": "markdown",
      "source": [
        "**Question 4:** What are the . and .. folders?\n",
        "\n",
        "**Ans:** (.) and (..) are entries which are normally present in every directory. Their meaning is not related to the working directory of a process (like shell) but to the directory the entry is in.\n",
        "\n"
      ],
      "metadata": {
        "id": "OeoF-ij0_TBE"
      }
    },
    {
      "cell_type": "markdown",
      "source": [
        "**Question 5:** In C:\\bacon\\eggs\\spam.txt, which part is the dir name, and which part is the base name?\n",
        "\n",
        "**Ans:** C:\\bacon\\eggs is the dir name, while spam.txt is the base name."
      ],
      "metadata": {
        "id": "o_x8DQPD_ndl"
      }
    },
    {
      "cell_type": "markdown",
      "source": [
        "**Question 6:** What are the three “mode” arguments that can be passed to the open() function?\n",
        "\n",
        "**Ans:** The string 'r' for read mode, 'w' for write mode, and 'a' for append mode"
      ],
      "metadata": {
        "id": "wScLLumg_48c"
      }
    },
    {
      "cell_type": "markdown",
      "source": [
        "**Question 7:** What happens if an existing file is opened in write mode?\n",
        "\n",
        "**Ans:** An existing file opened in write mode is erased and completely overwritten."
      ],
      "metadata": {
        "id": "b58dzbWKAE6N"
      }
    },
    {
      "cell_type": "markdown",
      "source": [
        "**Question 8.** How do you tell the difference between read() and readlines()?\n",
        "\n",
        "**Ans:** The read() method returns the file's entire contents as a single string value. The readlines() method returns a list of strings, where each string is a line from the file's contents."
      ],
      "metadata": {
        "id": "6LAzfEsyARoL"
      }
    },
    {
      "cell_type": "markdown",
      "source": [
        "**Question 9:** What data structure does a shelf value resemble?\n",
        "\n",
        "**Ans:**  A shelf value resembles a dictionary value; it has keys and values, along with keys() and values() methods that work similarly to the dictionary methods of the same names."
      ],
      "metadata": {
        "id": "ixesWk67AcFU"
      }
    }
  ]
}